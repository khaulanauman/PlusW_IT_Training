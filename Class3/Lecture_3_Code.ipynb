{
  "cells": [
    {
      "cell_type": "code",
      "source": [
        "# Condtional statement\n",
        "\n",
        "age = int(input(\"Enter your age: \"))\n",
        "if age >= 21:\n",
        "  print(\"You are eligible for the vote\")"
      ],
      "metadata": {
        "colab": {
          "base_uri": "https://localhost:8080/"
        },
        "id": "0fSwa_DrePMg",
        "outputId": "588ae131-84b3-4cef-cc55-1fc26b81cb41"
      },
      "id": "0fSwa_DrePMg",
      "execution_count": 3,
      "outputs": [
        {
          "output_type": "stream",
          "name": "stdout",
          "text": [
            "Enter your age: 22\n",
            "You are eligible for the vote\n"
          ]
        }
      ]
    },
    {
      "cell_type": "code",
      "source": [
        "# If-else statement\n",
        "\n",
        "age = input (\"Enter your age: \")\n",
        "if int(age) >= 21:\n",
        "  print (\"You are eligible for the vote\")\n",
        "else:\n",
        "  print (\"You are not eligible for the vote\")"
      ],
      "metadata": {
        "colab": {
          "base_uri": "https://localhost:8080/"
        },
        "id": "VnHsLKqWeVmC",
        "outputId": "5b6625d3-73ce-4959-b1af-a5614a78fe77"
      },
      "id": "VnHsLKqWeVmC",
      "execution_count": 5,
      "outputs": [
        {
          "output_type": "stream",
          "name": "stdout",
          "text": [
            "Enter your age: 22\n",
            "You are eligible for the vote\n"
          ]
        }
      ]
    },
    {
      "cell_type": "code",
      "source": [
        "# If-else and elif statement\n",
        "\n",
        "marks = 70\n",
        "if marks >= 90:\n",
        "  print(\"Grade: A\")\n",
        "elif marks >= 80:\n",
        "  print(\"Grade: B\")\n",
        "elif marks >= 70:\n",
        "  print(\"Grade: C\")\n",
        "elif marks >= 60:\n",
        "  print(\"Grade: D\")\n",
        "else:\n",
        "  print(\"Grade: F\")"
      ],
      "metadata": {
        "colab": {
          "base_uri": "https://localhost:8080/"
        },
        "id": "_QzS2irCeXh2",
        "outputId": "2c249d26-72eb-4265-b441-2cba25ed54ef"
      },
      "id": "_QzS2irCeXh2",
      "execution_count": 6,
      "outputs": [
        {
          "output_type": "stream",
          "name": "stdout",
          "text": [
            "Grade: C\n"
          ]
        }
      ]
    },
    {
      "cell_type": "code",
      "source": [
        "# Nested if statement\n",
        "\n",
        "num = int(input(\"Enter a number: \")) # 10, -1\n",
        "if num >=0:\n",
        "  if num == 0:\n",
        "    print(\"Number is zero\")\n",
        "  else:\n",
        "    print(\"Number is positive\")\n",
        "else:\n",
        "  print(\"Number is negative\")"
      ],
      "metadata": {
        "colab": {
          "base_uri": "https://localhost:8080/"
        },
        "id": "9DVkZlqAeYPp",
        "outputId": "e3ae0702-9941-446c-bf9d-1c333474c6e5"
      },
      "id": "9DVkZlqAeYPp",
      "execution_count": 8,
      "outputs": [
        {
          "output_type": "stream",
          "name": "stdout",
          "text": [
            "Enter a number: 10\n",
            "Number is positive\n"
          ]
        }
      ]
    },
    {
      "cell_type": "code",
      "source": [
        "# Conditions\n",
        "\n",
        "num = 10\n",
        "\n",
        "if num > 5:\n",
        "  if num % 2 == 0:\n",
        "    print(f\"The even number {num} is greater than 5\")\n",
        "  else:\n",
        "    print(f\"The odd number {num} is greater than 5\")"
      ],
      "metadata": {
        "colab": {
          "base_uri": "https://localhost:8080/"
        },
        "id": "XFgzSi3zeZvw",
        "outputId": "1bbb199e-9119-4219-830e-45e648bd42d0"
      },
      "id": "XFgzSi3zeZvw",
      "execution_count": 9,
      "outputs": [
        {
          "output_type": "stream",
          "name": "stdout",
          "text": [
            "The even number 10 is greater than 5\n"
          ]
        }
      ]
    },
    {
      "cell_type": "code",
      "source": [
        "is_adult = True\n",
        "has_voter_id = False\n",
        "\n",
        "if is_adult and has_voter_id:\n",
        "  print(\"You are eligible to vote\")\n",
        "else:\n",
        "  print(\"You are not eligible to vote\")"
      ],
      "metadata": {
        "colab": {
          "base_uri": "https://localhost:8080/"
        },
        "id": "d4upe_PUebCH",
        "outputId": "dadaa748-216d-4b29-f051-731cd9275672"
      },
      "id": "d4upe_PUebCH",
      "execution_count": 12,
      "outputs": [
        {
          "output_type": "stream",
          "name": "stdout",
          "text": [
            "You are not eligible to vote\n"
          ]
        }
      ]
    },
    {
      "cell_type": "code",
      "source": [
        "# Ternary Operator\n",
        "# A shorthand way of writing a single if-else statement\n",
        "\n",
        "age = 30\n",
        "\n",
        "message = \"Adult\" if age >= 18 else \"Not Adult\"\n",
        "print(message)"
      ],
      "metadata": {
        "colab": {
          "base_uri": "https://localhost:8080/"
        },
        "id": "uIhyDdrPefns",
        "outputId": "dd1e38d0-4e06-40cc-f8b6-09aa16c830cf"
      },
      "id": "uIhyDdrPefns",
      "execution_count": 13,
      "outputs": [
        {
          "output_type": "stream",
          "name": "stdout",
          "text": [
            "Adult\n"
          ]
        }
      ]
    },
    {
      "cell_type": "code",
      "source": [
        "# Match-case\n",
        "# Traffic Signal\n",
        "\n",
        "colour = input(\"Enter the colour:\")\n",
        "colour = colour.lower()\n",
        "\n",
        "match colour:\n",
        "  case 'red':\n",
        "    print(\"Stop\")\n",
        "  case 'yellow':\n",
        "    print(\"Get ready\")\n",
        "  case 'green':\n",
        "    print(\"Go\")\n",
        "  case _:\n",
        "    print(\"Naw you messed up dawg\")"
      ],
      "metadata": {
        "colab": {
          "base_uri": "https://localhost:8080/"
        },
        "id": "8QTc5gPregaN",
        "outputId": "0f9e68be-d915-4c73-fba2-4014fd33d796"
      },
      "id": "8QTc5gPregaN",
      "execution_count": 17,
      "outputs": [
        {
          "output_type": "stream",
          "name": "stdout",
          "text": [
            "Enter the colour:df\n",
            "Naw you messed up dawg\n"
          ]
        }
      ]
    },
    {
      "cell_type": "code",
      "source": [
        "# For a loop on a list\n",
        "\n",
        "fruits = [\"Apples\", \"Oranges\", \"Mangoes\"]\n",
        "\n",
        "for myChoice in fruits:\n",
        "  print(myChoice)"
      ],
      "metadata": {
        "colab": {
          "base_uri": "https://localhost:8080/"
        },
        "id": "xpPjuawXehVl",
        "outputId": "56893025-4e36-49ea-81c9-dd16ffcbc542"
      },
      "id": "xpPjuawXehVl",
      "execution_count": 19,
      "outputs": [
        {
          "output_type": "stream",
          "name": "stdout",
          "text": [
            "Apples\n",
            "Oranges\n",
            "Mangoes\n"
          ]
        }
      ]
    },
    {
      "cell_type": "code",
      "source": [
        "# For a loop on a string\n",
        "\n",
        "meme = \"Bomboclaat\"\n",
        "for memes in meme:\n",
        "  print(memes)"
      ],
      "metadata": {
        "colab": {
          "base_uri": "https://localhost:8080/"
        },
        "id": "XSXt9CXoeh-v",
        "outputId": "d5ecc06d-9a12-42fb-dd3d-a17ad0dc7ca0"
      },
      "id": "XSXt9CXoeh-v",
      "execution_count": 23,
      "outputs": [
        {
          "output_type": "stream",
          "name": "stdout",
          "text": [
            "B\n",
            "o\n",
            "m\n",
            "b\n",
            "o\n",
            "c\n",
            "l\n",
            "a\n",
            "a\n",
            "t\n"
          ]
        }
      ]
    },
    {
      "cell_type": "code",
      "source": [
        "# For a loop on a dictionary\n",
        "\n",
        "connections = {\"Fruit\":\"Date\", \"Car\":\"Lamborghini\", \"City\":\"LA\"}\n",
        "\n",
        "for swag, type in connections.items():\n",
        "  print(f\"{swag}: {type}\")"
      ],
      "metadata": {
        "colab": {
          "base_uri": "https://localhost:8080/"
        },
        "id": "M0dqmVQpejZG",
        "outputId": "dd15c7ec-f00e-4887-b15d-561663b7822b"
      },
      "id": "M0dqmVQpejZG",
      "execution_count": 48,
      "outputs": [
        {
          "output_type": "stream",
          "name": "stdout",
          "text": [
            "Fruit: Date\n",
            "Car: Lamborghini\n",
            "City: LA\n"
          ]
        }
      ]
    },
    {
      "cell_type": "code",
      "source": [
        "# range\n",
        "\n",
        "for i in range(1, 11): # 11 is not include in the output\n",
        "  print(i)"
      ],
      "metadata": {
        "colab": {
          "base_uri": "https://localhost:8080/"
        },
        "id": "Q00dy9qGelsu",
        "outputId": "4e00b845-afa6-4c33-d2a5-6091d58624b2"
      },
      "id": "Q00dy9qGelsu",
      "execution_count": 25,
      "outputs": [
        {
          "output_type": "stream",
          "name": "stdout",
          "text": [
            "1\n",
            "2\n",
            "3\n",
            "4\n",
            "5\n",
            "6\n",
            "7\n",
            "8\n",
            "9\n",
            "10\n"
          ]
        }
      ]
    },
    {
      "cell_type": "code",
      "source": [
        "# while loop\n",
        "\n",
        "count = 0;\n",
        "\n",
        "while count < 5:\n",
        "  print(f\"Count: {count}\")\n",
        "  count += 1"
      ],
      "metadata": {
        "colab": {
          "base_uri": "https://localhost:8080/"
        },
        "id": "XtWPaSxyem51",
        "outputId": "6f1f1f43-d837-49cc-9ab5-dd9a3f9dbde6"
      },
      "id": "XtWPaSxyem51",
      "execution_count": 26,
      "outputs": [
        {
          "output_type": "stream",
          "name": "stdout",
          "text": [
            "Count: 0\n",
            "Count: 1\n",
            "Count: 2\n",
            "Count: 3\n",
            "Count: 4\n"
          ]
        }
      ]
    },
    {
      "cell_type": "code",
      "source": [
        "# run a loop infine times\n",
        "\n",
        "while True:\n",
        "  user_input = input(\"Press 'q' to exit \")\n",
        "  if user_input == \"q\":\n",
        "    print(\"\\nExiting the loop\\nCiao\")\n",
        "    break"
      ],
      "metadata": {
        "colab": {
          "base_uri": "https://localhost:8080/"
        },
        "id": "9MFjQrgcenkP",
        "outputId": "5c8abae7-3b9c-49ce-9a00-256ba1800d22"
      },
      "id": "9MFjQrgcenkP",
      "execution_count": 30,
      "outputs": [
        {
          "output_type": "stream",
          "name": "stdout",
          "text": [
            "Press 'q' to exit g\n",
            "Press 'q' to exit 5\n",
            "Press 'q' to exit  \n",
            "Press 'q' to exit q\n",
            "\n",
            "Exiting the loop\n",
            "Ciao\n"
          ]
        }
      ]
    },
    {
      "cell_type": "code",
      "source": [
        "for i in range(10):\n",
        "  if i == 5:\n",
        "    continue\n",
        "  print(i)"
      ],
      "metadata": {
        "colab": {
          "base_uri": "https://localhost:8080/"
        },
        "id": "3ojhMoeReoSW",
        "outputId": "b38a2f4c-a638-4d66-e1a5-5b48b603c9ab"
      },
      "id": "3ojhMoeReoSW",
      "execution_count": 31,
      "outputs": [
        {
          "output_type": "stream",
          "name": "stdout",
          "text": [
            "0\n",
            "1\n",
            "2\n",
            "3\n",
            "4\n",
            "6\n",
            "7\n",
            "8\n",
            "9\n"
          ]
        }
      ]
    },
    {
      "cell_type": "code",
      "source": [
        "# a loop inside a loop\n",
        "\n",
        "for i in range(3):\n",
        "  for j in range(3):\n",
        "    print(i, j)\n",
        "\n",
        "    # 3x3 matrix\n",
        "\n",
        "    # (0,0) (0,1) (0, 2)\n",
        "    # (1,0) (1,1) (1, 2)\n",
        "    # (2,0) (2,1) (2, 2)"
      ],
      "metadata": {
        "colab": {
          "base_uri": "https://localhost:8080/"
        },
        "id": "t_VEdIXGepVH",
        "outputId": "3d1dc598-e2f4-4a57-ab89-e04ae8aeafc5"
      },
      "id": "t_VEdIXGepVH",
      "execution_count": 32,
      "outputs": [
        {
          "output_type": "stream",
          "name": "stdout",
          "text": [
            "0 0\n",
            "0 1\n",
            "0 2\n",
            "1 0\n",
            "1 1\n",
            "1 2\n",
            "2 0\n",
            "2 1\n",
            "2 2\n"
          ]
        }
      ]
    },
    {
      "cell_type": "code",
      "source": [
        "for i in range(1, 6): # outer loop\n",
        "  for j in range(1, 13): # inner loop\n",
        "    print(f\"{j} x {i} = {i * j}\")\n",
        "  print()"
      ],
      "metadata": {
        "colab": {
          "base_uri": "https://localhost:8080/"
        },
        "id": "mlwdHTtgeqJC",
        "outputId": "ef9e59f5-6bc9-45e4-8fef-1ea23173b6ca"
      },
      "id": "mlwdHTtgeqJC",
      "execution_count": 35,
      "outputs": [
        {
          "output_type": "stream",
          "name": "stdout",
          "text": [
            "1 x 1 = 1\n",
            "2 x 1 = 2\n",
            "3 x 1 = 3\n",
            "4 x 1 = 4\n",
            "5 x 1 = 5\n",
            "6 x 1 = 6\n",
            "7 x 1 = 7\n",
            "8 x 1 = 8\n",
            "9 x 1 = 9\n",
            "10 x 1 = 10\n",
            "11 x 1 = 11\n",
            "12 x 1 = 12\n",
            "\n",
            "1 x 2 = 2\n",
            "2 x 2 = 4\n",
            "3 x 2 = 6\n",
            "4 x 2 = 8\n",
            "5 x 2 = 10\n",
            "6 x 2 = 12\n",
            "7 x 2 = 14\n",
            "8 x 2 = 16\n",
            "9 x 2 = 18\n",
            "10 x 2 = 20\n",
            "11 x 2 = 22\n",
            "12 x 2 = 24\n",
            "\n",
            "1 x 3 = 3\n",
            "2 x 3 = 6\n",
            "3 x 3 = 9\n",
            "4 x 3 = 12\n",
            "5 x 3 = 15\n",
            "6 x 3 = 18\n",
            "7 x 3 = 21\n",
            "8 x 3 = 24\n",
            "9 x 3 = 27\n",
            "10 x 3 = 30\n",
            "11 x 3 = 33\n",
            "12 x 3 = 36\n",
            "\n",
            "1 x 4 = 4\n",
            "2 x 4 = 8\n",
            "3 x 4 = 12\n",
            "4 x 4 = 16\n",
            "5 x 4 = 20\n",
            "6 x 4 = 24\n",
            "7 x 4 = 28\n",
            "8 x 4 = 32\n",
            "9 x 4 = 36\n",
            "10 x 4 = 40\n",
            "11 x 4 = 44\n",
            "12 x 4 = 48\n",
            "\n",
            "1 x 5 = 5\n",
            "2 x 5 = 10\n",
            "3 x 5 = 15\n",
            "4 x 5 = 20\n",
            "5 x 5 = 25\n",
            "6 x 5 = 30\n",
            "7 x 5 = 35\n",
            "8 x 5 = 40\n",
            "9 x 5 = 45\n",
            "10 x 5 = 50\n",
            "11 x 5 = 55\n",
            "12 x 5 = 60\n",
            "\n"
          ]
        }
      ]
    },
    {
      "cell_type": "code",
      "source": [
        "# loop else statement\n",
        "\n",
        "for i in range(5):\n",
        "  print(i)\n",
        "else:\n",
        "  print(\"End of the line\")"
      ],
      "metadata": {
        "colab": {
          "base_uri": "https://localhost:8080/"
        },
        "id": "uYAEvWO1erSg",
        "outputId": "3e96ba5b-e326-4a0c-c2d0-a77ebad0571a"
      },
      "id": "uYAEvWO1erSg",
      "execution_count": 36,
      "outputs": [
        {
          "output_type": "stream",
          "name": "stdout",
          "text": [
            "0\n",
            "1\n",
            "2\n",
            "3\n",
            "4\n",
            "End of the line\n"
          ]
        }
      ]
    },
    {
      "cell_type": "code",
      "source": [
        "# search functionality\n",
        "\n",
        "num = [1,2,3,4,5]\n",
        "search = 7\n",
        "\n",
        "for nums in num:\n",
        "  if nums == search:\n",
        "    print(f\"Congratulations: found {search}\")\n",
        "    break\n",
        "else:\n",
        "  print(f\"Error: your search item {search} was not found\")"
      ],
      "metadata": {
        "colab": {
          "base_uri": "https://localhost:8080/"
        },
        "id": "I8pq1cyler-m",
        "outputId": "6c72e2c5-3b24-4d85-dba5-c6101faf3f04"
      },
      "id": "I8pq1cyler-m",
      "execution_count": 41,
      "outputs": [
        {
          "output_type": "stream",
          "name": "stdout",
          "text": [
            "Error: your search item 7 was not found\n"
          ]
        }
      ]
    },
    {
      "cell_type": "code",
      "source": [
        "# defining a functions in Python\n",
        "\n",
        "def greet():\n",
        "  print(\"Assalam u Alaikum, I am learning Python with instructor Umair\")\n",
        "\n",
        "greet()"
      ],
      "metadata": {
        "colab": {
          "base_uri": "https://localhost:8080/"
        },
        "id": "QrwKI61Tes5E",
        "outputId": "425000e0-7348-4b1c-9b4d-d724580251d3"
      },
      "id": "QrwKI61Tes5E",
      "execution_count": 43,
      "outputs": [
        {
          "output_type": "stream",
          "name": "stdout",
          "text": [
            "Assalam u Alaikum, I am learning Python with instructor Umair\n"
          ]
        }
      ]
    },
    {
      "cell_type": "code",
      "source": [
        "def greet(name):\n",
        "  print(f\"Assalam u Alaikum, {name} is learning Python\")\n",
        "\n",
        "greet(\"Me\")"
      ],
      "metadata": {
        "colab": {
          "base_uri": "https://localhost:8080/"
        },
        "id": "ak0THqR5etup",
        "outputId": "741a0ac0-b7dc-4e90-a4fa-c034a2ff8908"
      },
      "id": "ak0THqR5etup",
      "execution_count": 45,
      "outputs": [
        {
          "output_type": "stream",
          "name": "stdout",
          "text": [
            "Assalam u Alaikum, Me is learning Python\n"
          ]
        }
      ]
    },
    {
      "cell_type": "code",
      "source": [
        "def add(a, b):\n",
        "  return a + b\n",
        "print(add(3, 5))\n",
        "\n",
        "def display_info(name, age = 101):\n",
        "  print(f\"\\nName: {name}, Age: {age}\")\n",
        "display_info(name = \"dsddsd\", age = 32)"
      ],
      "metadata": {
        "colab": {
          "base_uri": "https://localhost:8080/"
        },
        "id": "2_N2REQKeua6",
        "outputId": "0c354a5e-7adc-4a5d-cfd8-aaf07efe9c53"
      },
      "id": "2_N2REQKeua6",
      "execution_count": 49,
      "outputs": [
        {
          "output_type": "stream",
          "name": "stdout",
          "text": [
            "8\n",
            "\n",
            "Name: dsddsd, Age: 32\n"
          ]
        }
      ]
    },
    {
      "cell_type": "code",
      "source": [
        "def my_functionato():\n",
        "  pass\n",
        "\n",
        "result = my_functionato()\n",
        "print(result)"
      ],
      "metadata": {
        "colab": {
          "base_uri": "https://localhost:8080/"
        },
        "id": "Si-_h2Kkevw_",
        "outputId": "7fc083b5-968a-4dd6-d59b-5da31fbd9158"
      },
      "id": "Si-_h2Kkevw_",
      "execution_count": 52,
      "outputs": [
        {
          "output_type": "stream",
          "name": "stdout",
          "text": [
            "None\n"
          ]
        }
      ]
    },
    {
      "cell_type": "code",
      "source": [
        "# arbitrary arguments\n",
        "\n",
        "def print_arg(*args):\n",
        "  for arg in args:\n",
        "    print(arg)\n",
        "print_arg(1, 2, 3, 4, 5)\n",
        "\n",
        "def print_kwargs(**kwargs):\n",
        "  for key, value in kwargs.items():\n",
        "    print(f\"{key}: {value}\")\n",
        "print_kwargs(name = \"gfdgdgdgfg\", age = 101)"
      ],
      "metadata": {
        "colab": {
          "base_uri": "https://localhost:8080/"
        },
        "id": "tlBKpvCTeway",
        "outputId": "0d3e7802-2618-46ae-979c-d47f2daf29a3"
      },
      "id": "tlBKpvCTeway",
      "execution_count": 56,
      "outputs": [
        {
          "output_type": "stream",
          "name": "stdout",
          "text": [
            "1\n",
            "2\n",
            "3\n",
            "4\n",
            "5\n",
            "name: gfdgdgdgfg\n",
            "age: 101\n"
          ]
        }
      ]
    },
    {
      "cell_type": "code",
      "source": [
        "# lambda function\n",
        "# one liner function\n",
        "\n",
        "square = lambda x: x ** 2\n",
        "print(square(5))   # x = 5"
      ],
      "metadata": {
        "colab": {
          "base_uri": "https://localhost:8080/"
        },
        "id": "FIvKGozRexHn",
        "outputId": "ec9a30f4-a6e2-4e74-8784-e692a6ac4f7c"
      },
      "id": "FIvKGozRexHn",
      "execution_count": 57,
      "outputs": [
        {
          "output_type": "stream",
          "name": "stdout",
          "text": [
            "25\n"
          ]
        }
      ]
    }
  ],
  "metadata": {
    "colab": {
      "provenance": [],
      "include_colab_link": true
    },
    "language_info": {
      "name": "python"
    },
    "kernelspec": {
      "name": "python3",
      "display_name": "Python 3"
    }
  },
  "nbformat": 4,
  "nbformat_minor": 5
}
